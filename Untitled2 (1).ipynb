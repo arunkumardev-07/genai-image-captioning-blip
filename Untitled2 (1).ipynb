{
 "cells": [
  {
   "cell_type": "code",
   "execution_count": null,
   "id": "13d13641",
   "metadata": {
    "height": 47
   },
   "outputs": [],
   "source": [
    "# Install necessary libraries (if not already installed)\n",
    "!pip install gradio transformers torch"
   ]
  },
  {
   "cell_type": "code",
   "execution_count": null,
   "id": "e77a5849",
   "metadata": {
    "height": 81
   },
   "outputs": [],
   "source": [
    "import gradio as gr\n",
    "from transformers import BlipProcessor, BlipForConditionalGeneration\n",
    "import torch\n",
    "from PIL import Image"
   ]
  },
  {
   "cell_type": "code",
   "execution_count": null,
   "id": "03c18d4a",
   "metadata": {
    "height": 64
   },
   "outputs": [],
   "source": [
    "# Step 1: Load the BLIP model and processor\n",
    "processor = BlipProcessor.from_pretrained(\"Salesforce/blip-image-captioning-base\")\n",
    "model = BlipForConditionalGeneration.from_pretrained(\"Salesforce/blip-image-captioning-base\")"
   ]
  },
  {
   "cell_type": "code",
   "execution_count": null,
   "id": "df76d52f",
   "metadata": {
    "height": 166
   },
   "outputs": [],
   "source": [
    "# Step 2: Define a function to generate captions for uploaded images\n",
    "def generate_caption(image):\n",
    "    # Preprocess the image and feed it into the model\n",
    "    inputs = processor(images=image, return_tensors=\"pt\")\n",
    "    out = model.generate(**inputs)\n",
    "    \n",
    "    # Decode the generated caption\n",
    "    caption = processor.decode(out[0], skip_special_tokens=True)\n",
    "    return caption"
   ]
  },
  {
   "cell_type": "code",
   "execution_count": null,
   "id": "eeab65c5",
   "metadata": {
    "height": 166
   },
   "outputs": [],
   "source": [
    "# Step 3: Create a Gradio interface\n",
    "iface = gr.Interface(\n",
    "    fn=generate_caption, \n",
    "    inputs=gr.Image(type=\"pil\"), \n",
    "    outputs=gr.Textbox(), \n",
    "    live=True,\n",
    "    title=\"BLIP Image Captioning\",\n",
    "    description=\"Upload an image and get a generated caption.\"\n",
    ")"
   ]
  },
  {
   "cell_type": "code",
   "execution_count": null,
   "id": "24cc93de",
   "metadata": {
    "height": 47
   },
   "outputs": [],
   "source": [
    "# Step 4: Launch the Gradio interface\n",
    "iface.launch()"
   ]
  }
 ],
 "metadata": {
  "kernelspec": {
   "display_name": "Python 3 (ipykernel)",
   "language": "python",
   "name": "python3"
  },
  "language_info": {
   "codemirror_mode": {
    "name": "ipython",
    "version": 3
   },
   "file_extension": ".py",
   "mimetype": "text/x-python",
   "name": "python",
   "nbconvert_exporter": "python",
   "pygments_lexer": "ipython3",
   "version": "3.9.19"
  }
 },
 "nbformat": 4,
 "nbformat_minor": 5
}
